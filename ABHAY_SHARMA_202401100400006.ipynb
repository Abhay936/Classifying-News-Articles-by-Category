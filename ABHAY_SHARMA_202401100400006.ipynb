{
  "nbformat": 4,
  "nbformat_minor": 0,
  "metadata": {
    "colab": {
      "provenance": []
    },
    "kernelspec": {
      "name": "python3",
      "display_name": "Python 3"
    },
    "language_info": {
      "name": "python"
    }
  },
  "cells": [
    {
      "cell_type": "markdown",
      "source": [
        "MSE-2   ________"
      ],
      "metadata": {
        "id": "GfTiJ-ZzrL2-"
      }
    },
    {
      "cell_type": "code",
      "source": [
        "import pandas as pd\n",
        "from sklearn.feature_extraction.text import TfidfVectorizer\n",
        "from sklearn.model_selection import train_test_split\n",
        "from sklearn.linear_model import LogisticRegression\n",
        "from sklearn.metrics import classification_report"
      ],
      "metadata": {
        "id": "42hrJXpOrTI0"
      },
      "execution_count": 1,
      "outputs": []
    },
    {
      "cell_type": "code",
      "source": [
        "# Load the CSV data\n",
        "df = pd.read_csv(\"/content/news_articles.csv\")"
      ],
      "metadata": {
        "id": "-1ghDn2rttNQ"
      },
      "execution_count": 6,
      "outputs": []
    },
    {
      "cell_type": "code",
      "source": [
        "# Combine title and keywords for input features\n",
        "df[\"text\"] = df[\"title\"] + \" \" + df[\"keywords\"]\n",
        "\n",
        "# Convert categories to numerical labels\n",
        "categories = df[\"category\"].unique()\n",
        "category_to_id = {cat: idx for idx, cat in enumerate(categories)}\n",
        "id_to_category = {idx: cat for cat, idx in category_to_id.items()}\n",
        "df[\"label\"] = df[\"category\"].map(category_to_id)"
      ],
      "metadata": {
        "id": "hYyfb8ISu0Yj"
      },
      "execution_count": 18,
      "outputs": []
    },
    {
      "cell_type": "code",
      "source": [
        "# Split into train/test sets with stratification\n",
        "X_train, X_test, y_train, y_test = train_test_split(\n",
        "    df[\"text\"], df[\"label\"], test_size=0.3, stratify=df[\"label\"], random_state=42\n",
        ")\n",
        "\n",
        "# Convert text to TF-IDF vectors\n",
        "vectorizer = TfidfVectorizer()\n",
        "X_train_vec = vectorizer.fit_transform(X_train)\n",
        "X_test_vec = vectorizer.transform(X_test)"
      ],
      "metadata": {
        "id": "rcUYtgPCu7AX"
      },
      "execution_count": 19,
      "outputs": []
    },
    {
      "cell_type": "code",
      "source": [
        "# Train a logistic regression model\n",
        "model = LogisticRegression(max_iter=1000)\n",
        "model.fit(X_train_vec, y_train)\n",
        "\n",
        "# Evaluate the model\n",
        "labels = list(category_to_id.values())\n",
        "target_names = list(category_to_id.keys())\n",
        "\n",
        "y_pred = model.predict(X_test_vec)"
      ],
      "metadata": {
        "id": "hS4b2RbYr5yi"
      },
      "execution_count": 20,
      "outputs": []
    },
    {
      "cell_type": "code",
      "source": [
        "# Predict on new example\n",
        "def predict_category(title, keywords):\n",
        "    text = title + \" \" + keywords\n",
        "    vec = vectorizer.transform([text])\n",
        "    pred = model.predict(vec)[0]\n",
        "    return id_to_category[pred]\n",
        "\n",
        "# Example usage\n",
        "example_title = \"Big Tech Invests in New Data Centers\"\n",
        "example_keywords = \"cloud, investment, technology\"\n",
        "\n",
        "print(\"Classification Report:\\n\")\n",
        "print(classification_report(y_test, y_pred, labels=labels, target_names=target_names, zero_division=0))\n",
        "print(\"Predicted category:\", predict_category(example_title, example_keywords))"
      ],
      "metadata": {
        "colab": {
          "base_uri": "https://localhost:8080/"
        },
        "id": "y7EJglCJuXde",
        "outputId": "f4b968d3-6aa6-4b0c-c978-0ccd34272ce5"
      },
      "execution_count": 21,
      "outputs": [
        {
          "output_type": "stream",
          "name": "stdout",
          "text": [
            "Classification Report:\n",
            "\n",
            "              precision    recall  f1-score   support\n",
            "\n",
            "        tech       1.00      1.00      1.00         1\n",
            "      sports       0.50      1.00      0.67         1\n",
            "    business       0.00      0.00      0.00         1\n",
            "\n",
            "    accuracy                           0.67         3\n",
            "   macro avg       0.50      0.67      0.56         3\n",
            "weighted avg       0.50      0.67      0.56         3\n",
            "\n",
            "Predicted category: tech\n"
          ]
        }
      ]
    }
  ]
}